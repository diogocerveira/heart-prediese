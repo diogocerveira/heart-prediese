{
 "cells": [
  {
   "cell_type": "code",
   "execution_count": null,
   "metadata": {},
   "outputs": [],
   "source": [
    "import numpy as np\n",
    "import pandas as pd\n",
    "import matplotlib.pyplot as plt\n",
    "from sklearn.model_selection import train_test_split\n",
    "from sklearn.metrics import accuracy_score\n",
    "from sklearn.tree import DecisionTreeClassifier\n",
    "\n",
    "data=pd.read_csv('heart.csv')\n",
    "\n",
    "# Separar as Features e o Target\n",
    "X=data.drop(columns='target', axis=1)\n",
    "Y=data['target']\n",
    "\n",
    "# Dividir os dados em training data & Test data, de forma aleatória\n",
    "X_train, X_test, Y_train, Y_test = train_test_split(X, Y, test_size=0.2, stratify=Y, random_state=2)\n",
    "\n",
    "#Decision Tree com entropia (\"measure of impurity of decision tree and quality of the split\")\n",
    "model = DecisionTreeClassifier(criterion = \"entropy\", random_state=2, max_depth=5, min_samples_leaf=5)\n",
    "\n",
    "#Treinar o modelo Decision Tree com a Training Data\n",
    "model.fit(X_train, Y_train)\n",
    "\n",
    "# Avaliação do Modelo\n",
    "\n",
    "#Accuracy on training data\n",
    "X_train_prediction=model.predict(X_train)\n",
    "training_data_accuracy = accuracy_score(X_train_prediction, Y_train)\n",
    "print('Accuracy on Training Data: ', training_data_accuracy)\n",
    "\n",
    "#Accuracy on test data\n",
    "X_test_prediction=model.predict(X_test)\n",
    "test_data_accuracy = accuracy_score(X_test_prediction, Y_test)\n",
    "print('Accuracy on Test Data: ', test_data_accuracy)"
   ]
  }
 ],
 "metadata": {
  "language_info": {
   "name": "python"
  }
 },
 "nbformat": 4,
 "nbformat_minor": 2
}
