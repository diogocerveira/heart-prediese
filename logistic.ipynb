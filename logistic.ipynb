{
 "cells": [
  {
   "cell_type": "code",
   "execution_count": null,
   "metadata": {},
   "outputs": [],
   "source": [
    "import pandas as pd\n",
    "from sklearn.linear_model import LogisticRegression\n",
    "from sklearn.model_selection import cross_val_score\n",
    "import seaborn as sns\n",
    "import matplotlib.pyplot as plt\n",
    "\n",
    "data = pd.read_csv('heart.csv')\n",
    "\n",
    "# print(data.head())\n",
    "\n",
    "model = LogisticRegression()\n",
    "\n",
    "data_x = data.iloc[:, :-1]\n",
    "data_y = data.iloc[:, -1]\n",
    "\n",
    "model.fit(data_x, data_y)\n",
    "\n",
    "\n",
    "sns.scatterplot(x=data_x.iloc[:, 0], y=data_y)\n",
    "sns.lineplot(x=data_x.iloc[:, 0], y=model.predict_proba(data_x)[:, 1])\n",
    "\n",
    "plt.xlabel('Feature')\n",
    "plt.ylabel('Target')\n",
    "plt.title('Model Line Fitted and Data')\n",
    "plt.legend(['Model Line', 'Data'])\n",
    "plt.show()\n",
    "\n",
    "\n",
    "# Perform 5-fold cross-validation\n",
    "'''\n",
    "scores = cross_val_score(model, data_x, data_y, cv=5)\n",
    "print(\"Cross-validation scores:\", scores)\n",
    "print(\"Average score:\", scores.mean())\n",
    "'''\n"
   ]
  }
 ],
 "metadata": {
  "language_info": {
   "name": "python"
  }
 },
 "nbformat": 4,
 "nbformat_minor": 2
}
