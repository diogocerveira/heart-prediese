{
 "cells": [
  {
   "cell_type": "code",
   "execution_count": null,
   "metadata": {},
   "outputs": [],
   "source": [
    "import numpy as np\n",
    "import pandas as pd\n",
    "import matplotlib.pyplot as plt\n",
    "from sklearn.model_selection import train_test_split\n",
    "from sklearn.linear_model import LogisticRegression\n",
    "from sklearn.metrics import accuracy_score\n",
    "\n",
    "data=pd.read_csv('heart.csv')\n",
    "\n",
    "# Verificar se existem \"null values\" no dataset\n",
    "if data.isnull().sum().any():\n",
    "    print(\"Missing values in the dataset\")\n",
    "\n",
    "# Separar as Features e o Target\n",
    "X=data.drop(columns='target', axis=1)\n",
    "Y=data['target']\n",
    "\n",
    "# Dividir os dados em training data & Test data, de forma aleatória\n",
    "X_train, X_test, Y_train, Y_test = train_test_split(X, Y, test_size=0.2, stratify=Y, random_state=2)\n",
    "\n",
    "#Logistic Regression\n",
    "model = LogisticRegression()\n",
    "\n",
    "#Treinar o modelo Logistic Regression com a Training Data\n",
    "model.fit(X_train, Y_train)\n",
    "\n",
    "# Avaliação do Modelo\n",
    "\n",
    "#Accuracy on training data\n",
    "X_train_prediction=model.predict(X_train)\n",
    "training_data_accuracy = accuracy_score(X_train_prediction, Y_train)\n",
    "print('Accuracy on Training Data: ', training_data_accuracy)\n",
    "\n",
    "#Accuracy on test data\n",
    "X_test_prediction=model.predict(X_test)\n",
    "test_data_accuracy = accuracy_score(X_test_prediction, Y_test)\n",
    "print('Accuracy on Test Data: ', test_data_accuracy)\n",
    "\n",
    "# Sistema\n",
    "\n",
    "input_data = (52,1,0,125,212,0,1,168,0,1,2,2,3) # Estes valores são os da primeira linha do heart.csv\n",
    "\n",
    "input_data_as_numpy_array = np.asarray(input_data) #Converter a input data num array\n",
    "input_data_reshaped = input_data_as_numpy_array.reshape(1,-1) #Reshape do array em uma linha em quantas colunas necessária para preservar o número original de elementos\n",
    "\n",
    "prediction = model.predict(input_data_reshaped)\n",
    "print(prediction)\n",
    "\n",
    "if(prediction[0]==0):\n",
    "    print('The patient does not have a Heart Disease')\n",
    "else:\n",
    "    print('The patient has a Heart Disease')\n"
   ]
  }
 ],
 "metadata": {
  "kernelspec": {
   "display_name": "base",
   "language": "python",
   "name": "python3"
  },
  "language_info": {
   "name": "python",
   "version": "3.11.5"
  }
 },
 "nbformat": 4,
 "nbformat_minor": 2
}
