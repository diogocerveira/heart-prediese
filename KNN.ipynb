{
 "cells": [
  {
   "cell_type": "code",
   "execution_count": null,
   "metadata": {},
   "outputs": [],
   "source": [
    "import numpy as np\n",
    "import pandas as pd\n",
    "from sklearn.model_selection import train_test_split\n",
    "from sklearn.preprocessing import StandardScaler\n",
    "from sklearn.neighbors import KNeighborsClassifier\n",
    "from sklearn.metrics import accuracy_score\n",
    "\n",
    "data=pd.read_csv('heart.csv')\n",
    "\n",
    "# Verificar se existem \"null values\" no dataset\n",
    "if data.isnull().sum().any():\n",
    "    print(\"Missing values in the dataset\")\n",
    "\n",
    "# Separar as Features e o Target\n",
    "X=data.drop(columns='target', axis=1)\n",
    "Y=data['target']\n",
    "\n",
    "# Dividir os dados em training data & Test data, de forma aleatória\n",
    "X_train, X_test, Y_train, Y_test = train_test_split(X, Y, test_size=0.2, stratify=Y, random_state=2)\n",
    "\n",
    "\n",
    "#Standardização das features\n",
    "#KNN é um algoritmo baseado na distância, por isso deve-se fazer Standardização\n",
    "standard_X=StandardScaler()\n",
    "X_train=standard_X.fit_transform(X_train)\n",
    "X_test=standard_X.fit_transform(X_test)\n",
    "\n",
    "#K-Nearest Neighbors (KNN)\n",
    "model = KNeighborsClassifier(n_neighbors=11, p=2, metric='euclidean')\n",
    "\n",
    "#Treinar o modelo KNN com a Training Data\n",
    "model.fit(X_train, Y_train)\n",
    "\n",
    "# Avaliação do Modelo\n",
    "\n",
    "#Accuracy on training data\n",
    "X_train_prediction=model.predict(X_train)\n",
    "training_data_accuracy = accuracy_score(X_train_prediction, Y_train)\n",
    "print('Accuracy on Training Data: ', training_data_accuracy)\n",
    "\n",
    "#Accuracy on test data\n",
    "X_test_prediction=model.predict(X_test)\n",
    "test_data_accuracy = accuracy_score(X_test_prediction, Y_test)\n",
    "print('Accuracy on Test Data: ', test_data_accuracy)"
   ]
  }
 ],
 "metadata": {
  "language_info": {
   "name": "python"
  }
 },
 "nbformat": 4,
 "nbformat_minor": 2
}
